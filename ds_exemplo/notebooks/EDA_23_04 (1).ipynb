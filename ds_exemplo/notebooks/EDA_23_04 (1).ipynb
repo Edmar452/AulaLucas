{
  "cells": [
    {
      "cell_type": "code",
      "execution_count": 27,
      "metadata": {
        "id": "DhVFgPwFtcMl"
      },
      "outputs": [],
      "source": [
        "import numpy as np\n",
        "import pandas as pd"
      ]
    },
    {
      "cell_type": "code",
      "execution_count": 28,
      "metadata": {
        "colab": {
          "base_uri": "https://localhost:8080/"
        },
        "id": "idxhxMVktft5",
        "outputId": "44a7aa83-c9d3-4692-e383-bd7181172c79"
      },
      "outputs": [
        {
          "data": {
            "text/plain": [
              "(10000, 21)"
            ]
          },
          "execution_count": 28,
          "metadata": {},
          "output_type": "execute_result"
        }
      ],
      "source": [
        "df = pd.read_csv(\"../data/diabetes_dataset.csv\")\n",
        "df.shape"
      ]
    },
    {
      "cell_type": "code",
      "execution_count": 29,
      "metadata": {
        "colab": {
          "base_uri": "https://localhost:8080/",
          "height": 273
        },
        "id": "3FT3cVBjtvO_",
        "outputId": "8281f5e8-8022-4b9a-f449-89c19279a4c0"
      },
      "outputs": [
        {
          "data": {
            "text/html": [
              "<div>\n",
              "<style scoped>\n",
              "    .dataframe tbody tr th:only-of-type {\n",
              "        vertical-align: middle;\n",
              "    }\n",
              "\n",
              "    .dataframe tbody tr th {\n",
              "        vertical-align: top;\n",
              "    }\n",
              "\n",
              "    .dataframe thead th {\n",
              "        text-align: right;\n",
              "    }\n",
              "</style>\n",
              "<table border=\"1\" class=\"dataframe\">\n",
              "  <thead>\n",
              "    <tr style=\"text-align: right;\">\n",
              "      <th></th>\n",
              "      <th>Unnamed: 0</th>\n",
              "      <th>Age</th>\n",
              "      <th>Sex</th>\n",
              "      <th>Ethnicity</th>\n",
              "      <th>BMI</th>\n",
              "      <th>Waist_Circumference</th>\n",
              "      <th>Fasting_Blood_Glucose</th>\n",
              "      <th>HbA1c</th>\n",
              "      <th>Blood_Pressure_Systolic</th>\n",
              "      <th>Blood_Pressure_Diastolic</th>\n",
              "      <th>...</th>\n",
              "      <th>Cholesterol_HDL</th>\n",
              "      <th>Cholesterol_LDL</th>\n",
              "      <th>GGT</th>\n",
              "      <th>Serum_Urate</th>\n",
              "      <th>Physical_Activity_Level</th>\n",
              "      <th>Dietary_Intake_Calories</th>\n",
              "      <th>Alcohol_Consumption</th>\n",
              "      <th>Smoking_Status</th>\n",
              "      <th>Family_History_of_Diabetes</th>\n",
              "      <th>Previous_Gestational_Diabetes</th>\n",
              "    </tr>\n",
              "  </thead>\n",
              "  <tbody>\n",
              "    <tr>\n",
              "      <th>0</th>\n",
              "      <td>0</td>\n",
              "      <td>58</td>\n",
              "      <td>Female</td>\n",
              "      <td>White</td>\n",
              "      <td>35.8</td>\n",
              "      <td>83.4</td>\n",
              "      <td>123.9</td>\n",
              "      <td>10.9</td>\n",
              "      <td>152</td>\n",
              "      <td>114</td>\n",
              "      <td>...</td>\n",
              "      <td>50.2</td>\n",
              "      <td>99.2</td>\n",
              "      <td>37.5</td>\n",
              "      <td>7.2</td>\n",
              "      <td>Moderate</td>\n",
              "      <td>1538</td>\n",
              "      <td>Moderate</td>\n",
              "      <td>Never</td>\n",
              "      <td>0</td>\n",
              "      <td>1</td>\n",
              "    </tr>\n",
              "    <tr>\n",
              "      <th>1</th>\n",
              "      <td>1</td>\n",
              "      <td>48</td>\n",
              "      <td>Male</td>\n",
              "      <td>Asian</td>\n",
              "      <td>24.1</td>\n",
              "      <td>71.4</td>\n",
              "      <td>183.7</td>\n",
              "      <td>12.8</td>\n",
              "      <td>103</td>\n",
              "      <td>91</td>\n",
              "      <td>...</td>\n",
              "      <td>62.0</td>\n",
              "      <td>146.4</td>\n",
              "      <td>88.5</td>\n",
              "      <td>6.1</td>\n",
              "      <td>Moderate</td>\n",
              "      <td>2653</td>\n",
              "      <td>Moderate</td>\n",
              "      <td>Current</td>\n",
              "      <td>0</td>\n",
              "      <td>1</td>\n",
              "    </tr>\n",
              "    <tr>\n",
              "      <th>2</th>\n",
              "      <td>2</td>\n",
              "      <td>34</td>\n",
              "      <td>Female</td>\n",
              "      <td>Black</td>\n",
              "      <td>25.0</td>\n",
              "      <td>113.8</td>\n",
              "      <td>142.0</td>\n",
              "      <td>14.5</td>\n",
              "      <td>179</td>\n",
              "      <td>104</td>\n",
              "      <td>...</td>\n",
              "      <td>32.1</td>\n",
              "      <td>164.1</td>\n",
              "      <td>56.2</td>\n",
              "      <td>6.9</td>\n",
              "      <td>Low</td>\n",
              "      <td>1684</td>\n",
              "      <td>Heavy</td>\n",
              "      <td>Former</td>\n",
              "      <td>1</td>\n",
              "      <td>0</td>\n",
              "    </tr>\n",
              "    <tr>\n",
              "      <th>3</th>\n",
              "      <td>3</td>\n",
              "      <td>62</td>\n",
              "      <td>Male</td>\n",
              "      <td>Asian</td>\n",
              "      <td>32.7</td>\n",
              "      <td>100.4</td>\n",
              "      <td>167.4</td>\n",
              "      <td>8.8</td>\n",
              "      <td>176</td>\n",
              "      <td>118</td>\n",
              "      <td>...</td>\n",
              "      <td>41.1</td>\n",
              "      <td>84.0</td>\n",
              "      <td>34.4</td>\n",
              "      <td>5.4</td>\n",
              "      <td>Low</td>\n",
              "      <td>3796</td>\n",
              "      <td>Moderate</td>\n",
              "      <td>Never</td>\n",
              "      <td>1</td>\n",
              "      <td>0</td>\n",
              "    </tr>\n",
              "    <tr>\n",
              "      <th>4</th>\n",
              "      <td>4</td>\n",
              "      <td>27</td>\n",
              "      <td>Female</td>\n",
              "      <td>Asian</td>\n",
              "      <td>33.5</td>\n",
              "      <td>110.8</td>\n",
              "      <td>146.4</td>\n",
              "      <td>7.1</td>\n",
              "      <td>122</td>\n",
              "      <td>97</td>\n",
              "      <td>...</td>\n",
              "      <td>53.9</td>\n",
              "      <td>92.8</td>\n",
              "      <td>81.9</td>\n",
              "      <td>7.4</td>\n",
              "      <td>Moderate</td>\n",
              "      <td>3161</td>\n",
              "      <td>Heavy</td>\n",
              "      <td>Current</td>\n",
              "      <td>0</td>\n",
              "      <td>0</td>\n",
              "    </tr>\n",
              "  </tbody>\n",
              "</table>\n",
              "<p>5 rows × 21 columns</p>\n",
              "</div>"
            ],
            "text/plain": [
              "   Unnamed: 0  Age     Sex Ethnicity   BMI  Waist_Circumference  \\\n",
              "0           0   58  Female     White  35.8                 83.4   \n",
              "1           1   48    Male     Asian  24.1                 71.4   \n",
              "2           2   34  Female     Black  25.0                113.8   \n",
              "3           3   62    Male     Asian  32.7                100.4   \n",
              "4           4   27  Female     Asian  33.5                110.8   \n",
              "\n",
              "   Fasting_Blood_Glucose  HbA1c  Blood_Pressure_Systolic  \\\n",
              "0                  123.9   10.9                      152   \n",
              "1                  183.7   12.8                      103   \n",
              "2                  142.0   14.5                      179   \n",
              "3                  167.4    8.8                      176   \n",
              "4                  146.4    7.1                      122   \n",
              "\n",
              "   Blood_Pressure_Diastolic  ...  Cholesterol_HDL  Cholesterol_LDL   GGT  \\\n",
              "0                       114  ...             50.2             99.2  37.5   \n",
              "1                        91  ...             62.0            146.4  88.5   \n",
              "2                       104  ...             32.1            164.1  56.2   \n",
              "3                       118  ...             41.1             84.0  34.4   \n",
              "4                        97  ...             53.9             92.8  81.9   \n",
              "\n",
              "   Serum_Urate  Physical_Activity_Level Dietary_Intake_Calories  \\\n",
              "0          7.2                 Moderate                    1538   \n",
              "1          6.1                 Moderate                    2653   \n",
              "2          6.9                      Low                    1684   \n",
              "3          5.4                      Low                    3796   \n",
              "4          7.4                 Moderate                    3161   \n",
              "\n",
              "   Alcohol_Consumption Smoking_Status Family_History_of_Diabetes  \\\n",
              "0             Moderate          Never                          0   \n",
              "1             Moderate        Current                          0   \n",
              "2                Heavy         Former                          1   \n",
              "3             Moderate          Never                          1   \n",
              "4                Heavy        Current                          0   \n",
              "\n",
              "   Previous_Gestational_Diabetes  \n",
              "0                              1  \n",
              "1                              1  \n",
              "2                              0  \n",
              "3                              0  \n",
              "4                              0  \n",
              "\n",
              "[5 rows x 21 columns]"
            ]
          },
          "execution_count": 29,
          "metadata": {},
          "output_type": "execute_result"
        }
      ],
      "source": [
        "df.head()"
      ]
    },
    {
      "cell_type": "code",
      "execution_count": 30,
      "metadata": {
        "colab": {
          "base_uri": "https://localhost:8080/",
          "height": 743
        },
        "id": "ciZ06A-vt1Mt",
        "outputId": "8b50b840-80b4-4b5b-eb2f-318f457a78fc"
      },
      "outputs": [
        {
          "data": {
            "text/plain": [
              "Unnamed: 0                          0\n",
              "Age                                 0\n",
              "Sex                                 0\n",
              "Ethnicity                           0\n",
              "BMI                                 0\n",
              "Waist_Circumference                 0\n",
              "Fasting_Blood_Glucose               0\n",
              "HbA1c                               0\n",
              "Blood_Pressure_Systolic             0\n",
              "Blood_Pressure_Diastolic            0\n",
              "Cholesterol_Total                   0\n",
              "Cholesterol_HDL                     0\n",
              "Cholesterol_LDL                     0\n",
              "GGT                                 0\n",
              "Serum_Urate                         0\n",
              "Physical_Activity_Level             0\n",
              "Dietary_Intake_Calories             0\n",
              "Alcohol_Consumption              3320\n",
              "Smoking_Status                      0\n",
              "Family_History_of_Diabetes          0\n",
              "Previous_Gestational_Diabetes       0\n",
              "dtype: int64"
            ]
          },
          "execution_count": 30,
          "metadata": {},
          "output_type": "execute_result"
        }
      ],
      "source": [
        "df.isna().sum()"
      ]
    },
    {
      "cell_type": "code",
      "execution_count": 31,
      "metadata": {
        "id": "WpOQoSeauA5j"
      },
      "outputs": [],
      "source": [
        "df[\"Sex\"] = df[\"Sex\"].fillna(\"NI\")"
      ]
    },
    {
      "cell_type": "code",
      "execution_count": 49,
      "metadata": {
        "id": "6JlorqVcuHC9"
      },
      "outputs": [],
      "source": [
        "df[\"Sex\"] = np.where(df[\"Sex\"] == \"Male\", \"Masculino\", \"Feminino\")"
      ]
    },
    {
      "cell_type": "code",
      "execution_count": 51,
      "metadata": {
        "colab": {
          "base_uri": "https://localhost:8080/"
        },
        "id": "Zk6uLf1QuJ8h",
        "outputId": "9060430d-fe05-4ecd-ebab-c2a71eed0c5a"
      },
      "outputs": [
        {
          "data": {
            "text/plain": [
              "array(['Feminino'], dtype=object)"
            ]
          },
          "execution_count": 51,
          "metadata": {},
          "output_type": "execute_result"
        }
      ],
      "source": [
        "df[\"Sex\"].unique()"
      ]
    },
    {
      "cell_type": "code",
      "execution_count": 34,
      "metadata": {
        "id": "9kLOZFJ2uMCs"
      },
      "outputs": [],
      "source": [
        "ethnicity = {\"White\": \"Branco\",\n",
        "              \"Asian\": \"Asiatico\",\n",
        "              \"Black\": \"Preto\",\n",
        "              \"Hispanic\": \"Hispanico\"}\n",
        "\n",
        "df[\"Ethnicity\"] = df[\"Ethnicity\"].apply(lambda x: ethnicity[x])"
      ]
    },
    {
      "cell_type": "code",
      "execution_count": 35,
      "metadata": {
        "colab": {
          "base_uri": "https://localhost:8080/"
        },
        "id": "1L0h8CgSvmVo",
        "outputId": "46255224-b173-49ee-b355-9c583f397f54"
      },
      "outputs": [
        {
          "data": {
            "text/plain": [
              "array(['Branco', 'Asiatico', 'Preto', 'Hispanico'], dtype=object)"
            ]
          },
          "execution_count": 35,
          "metadata": {},
          "output_type": "execute_result"
        }
      ],
      "source": [
        "df[\"Ethnicity\"].unique()"
      ]
    },
    {
      "cell_type": "code",
      "execution_count": 36,
      "metadata": {
        "id": "bjF2FFO5vuvU"
      },
      "outputs": [],
      "source": [
        "physical_Activity_Level = {\"Moderate\": \"Moderado\",\n",
        "            \"Low\": \"Baixo\",\n",
        "            \"High\": \"Alto\"}\n",
        "\n",
        "df[\"Physical_Activity_Level\"] = df[\"Physical_Activity_Level\"].apply(lambda x: physical_Activity_Level[x])"
      ]
    },
    {
      "cell_type": "code",
      "execution_count": 37,
      "metadata": {
        "colab": {
          "base_uri": "https://localhost:8080/"
        },
        "id": "FEdndcgSv9oa",
        "outputId": "c0cbf019-caf6-487d-950a-0d41c47088ff"
      },
      "outputs": [
        {
          "data": {
            "text/plain": [
              "array(['Moderado', 'Baixo', 'Alto'], dtype=object)"
            ]
          },
          "execution_count": 37,
          "metadata": {},
          "output_type": "execute_result"
        }
      ],
      "source": [
        "df[\"Physical_Activity_Level\"].unique()"
      ]
    },
    {
      "cell_type": "code",
      "execution_count": 38,
      "metadata": {
        "colab": {
          "base_uri": "https://localhost:8080/",
          "height": 273
        },
        "id": "SWurov6MwFt9",
        "outputId": "2c22f0fd-daaa-45df-e422-68ba7ec297b3"
      },
      "outputs": [
        {
          "data": {
            "text/html": [
              "<div>\n",
              "<style scoped>\n",
              "    .dataframe tbody tr th:only-of-type {\n",
              "        vertical-align: middle;\n",
              "    }\n",
              "\n",
              "    .dataframe tbody tr th {\n",
              "        vertical-align: top;\n",
              "    }\n",
              "\n",
              "    .dataframe thead th {\n",
              "        text-align: right;\n",
              "    }\n",
              "</style>\n",
              "<table border=\"1\" class=\"dataframe\">\n",
              "  <thead>\n",
              "    <tr style=\"text-align: right;\">\n",
              "      <th></th>\n",
              "      <th>Unnamed: 0</th>\n",
              "      <th>Age</th>\n",
              "      <th>Sex</th>\n",
              "      <th>Ethnicity</th>\n",
              "      <th>BMI</th>\n",
              "      <th>Waist_Circumference</th>\n",
              "      <th>Fasting_Blood_Glucose</th>\n",
              "      <th>HbA1c</th>\n",
              "      <th>Blood_Pressure_Systolic</th>\n",
              "      <th>Blood_Pressure_Diastolic</th>\n",
              "      <th>...</th>\n",
              "      <th>Cholesterol_HDL</th>\n",
              "      <th>Cholesterol_LDL</th>\n",
              "      <th>GGT</th>\n",
              "      <th>Serum_Urate</th>\n",
              "      <th>Physical_Activity_Level</th>\n",
              "      <th>Dietary_Intake_Calories</th>\n",
              "      <th>Alcohol_Consumption</th>\n",
              "      <th>Smoking_Status</th>\n",
              "      <th>Family_History_of_Diabetes</th>\n",
              "      <th>Previous_Gestational_Diabetes</th>\n",
              "    </tr>\n",
              "  </thead>\n",
              "  <tbody>\n",
              "    <tr>\n",
              "      <th>0</th>\n",
              "      <td>0</td>\n",
              "      <td>58</td>\n",
              "      <td>Feminino</td>\n",
              "      <td>Branco</td>\n",
              "      <td>35.8</td>\n",
              "      <td>83.4</td>\n",
              "      <td>123.9</td>\n",
              "      <td>10.9</td>\n",
              "      <td>152</td>\n",
              "      <td>114</td>\n",
              "      <td>...</td>\n",
              "      <td>50.2</td>\n",
              "      <td>99.2</td>\n",
              "      <td>37.5</td>\n",
              "      <td>7.2</td>\n",
              "      <td>Moderado</td>\n",
              "      <td>1538</td>\n",
              "      <td>Moderate</td>\n",
              "      <td>Never</td>\n",
              "      <td>0</td>\n",
              "      <td>1</td>\n",
              "    </tr>\n",
              "    <tr>\n",
              "      <th>1</th>\n",
              "      <td>1</td>\n",
              "      <td>48</td>\n",
              "      <td>Feminino</td>\n",
              "      <td>Asiatico</td>\n",
              "      <td>24.1</td>\n",
              "      <td>71.4</td>\n",
              "      <td>183.7</td>\n",
              "      <td>12.8</td>\n",
              "      <td>103</td>\n",
              "      <td>91</td>\n",
              "      <td>...</td>\n",
              "      <td>62.0</td>\n",
              "      <td>146.4</td>\n",
              "      <td>88.5</td>\n",
              "      <td>6.1</td>\n",
              "      <td>Moderado</td>\n",
              "      <td>2653</td>\n",
              "      <td>Moderate</td>\n",
              "      <td>Current</td>\n",
              "      <td>0</td>\n",
              "      <td>1</td>\n",
              "    </tr>\n",
              "    <tr>\n",
              "      <th>2</th>\n",
              "      <td>2</td>\n",
              "      <td>34</td>\n",
              "      <td>Feminino</td>\n",
              "      <td>Preto</td>\n",
              "      <td>25.0</td>\n",
              "      <td>113.8</td>\n",
              "      <td>142.0</td>\n",
              "      <td>14.5</td>\n",
              "      <td>179</td>\n",
              "      <td>104</td>\n",
              "      <td>...</td>\n",
              "      <td>32.1</td>\n",
              "      <td>164.1</td>\n",
              "      <td>56.2</td>\n",
              "      <td>6.9</td>\n",
              "      <td>Baixo</td>\n",
              "      <td>1684</td>\n",
              "      <td>Heavy</td>\n",
              "      <td>Former</td>\n",
              "      <td>1</td>\n",
              "      <td>0</td>\n",
              "    </tr>\n",
              "    <tr>\n",
              "      <th>3</th>\n",
              "      <td>3</td>\n",
              "      <td>62</td>\n",
              "      <td>Feminino</td>\n",
              "      <td>Asiatico</td>\n",
              "      <td>32.7</td>\n",
              "      <td>100.4</td>\n",
              "      <td>167.4</td>\n",
              "      <td>8.8</td>\n",
              "      <td>176</td>\n",
              "      <td>118</td>\n",
              "      <td>...</td>\n",
              "      <td>41.1</td>\n",
              "      <td>84.0</td>\n",
              "      <td>34.4</td>\n",
              "      <td>5.4</td>\n",
              "      <td>Baixo</td>\n",
              "      <td>3796</td>\n",
              "      <td>Moderate</td>\n",
              "      <td>Never</td>\n",
              "      <td>1</td>\n",
              "      <td>0</td>\n",
              "    </tr>\n",
              "    <tr>\n",
              "      <th>4</th>\n",
              "      <td>4</td>\n",
              "      <td>27</td>\n",
              "      <td>Feminino</td>\n",
              "      <td>Asiatico</td>\n",
              "      <td>33.5</td>\n",
              "      <td>110.8</td>\n",
              "      <td>146.4</td>\n",
              "      <td>7.1</td>\n",
              "      <td>122</td>\n",
              "      <td>97</td>\n",
              "      <td>...</td>\n",
              "      <td>53.9</td>\n",
              "      <td>92.8</td>\n",
              "      <td>81.9</td>\n",
              "      <td>7.4</td>\n",
              "      <td>Moderado</td>\n",
              "      <td>3161</td>\n",
              "      <td>Heavy</td>\n",
              "      <td>Current</td>\n",
              "      <td>0</td>\n",
              "      <td>0</td>\n",
              "    </tr>\n",
              "  </tbody>\n",
              "</table>\n",
              "<p>5 rows × 21 columns</p>\n",
              "</div>"
            ],
            "text/plain": [
              "   Unnamed: 0  Age       Sex Ethnicity   BMI  Waist_Circumference  \\\n",
              "0           0   58  Feminino    Branco  35.8                 83.4   \n",
              "1           1   48  Feminino  Asiatico  24.1                 71.4   \n",
              "2           2   34  Feminino     Preto  25.0                113.8   \n",
              "3           3   62  Feminino  Asiatico  32.7                100.4   \n",
              "4           4   27  Feminino  Asiatico  33.5                110.8   \n",
              "\n",
              "   Fasting_Blood_Glucose  HbA1c  Blood_Pressure_Systolic  \\\n",
              "0                  123.9   10.9                      152   \n",
              "1                  183.7   12.8                      103   \n",
              "2                  142.0   14.5                      179   \n",
              "3                  167.4    8.8                      176   \n",
              "4                  146.4    7.1                      122   \n",
              "\n",
              "   Blood_Pressure_Diastolic  ...  Cholesterol_HDL  Cholesterol_LDL   GGT  \\\n",
              "0                       114  ...             50.2             99.2  37.5   \n",
              "1                        91  ...             62.0            146.4  88.5   \n",
              "2                       104  ...             32.1            164.1  56.2   \n",
              "3                       118  ...             41.1             84.0  34.4   \n",
              "4                        97  ...             53.9             92.8  81.9   \n",
              "\n",
              "   Serum_Urate  Physical_Activity_Level Dietary_Intake_Calories  \\\n",
              "0          7.2                 Moderado                    1538   \n",
              "1          6.1                 Moderado                    2653   \n",
              "2          6.9                    Baixo                    1684   \n",
              "3          5.4                    Baixo                    3796   \n",
              "4          7.4                 Moderado                    3161   \n",
              "\n",
              "   Alcohol_Consumption Smoking_Status Family_History_of_Diabetes  \\\n",
              "0             Moderate          Never                          0   \n",
              "1             Moderate        Current                          0   \n",
              "2                Heavy         Former                          1   \n",
              "3             Moderate          Never                          1   \n",
              "4                Heavy        Current                          0   \n",
              "\n",
              "   Previous_Gestational_Diabetes  \n",
              "0                              1  \n",
              "1                              1  \n",
              "2                              0  \n",
              "3                              0  \n",
              "4                              0  \n",
              "\n",
              "[5 rows x 21 columns]"
            ]
          },
          "execution_count": 38,
          "metadata": {},
          "output_type": "execute_result"
        }
      ],
      "source": [
        "df.head()"
      ]
    },
    {
      "cell_type": "code",
      "execution_count": 39,
      "metadata": {
        "colab": {
          "base_uri": "https://localhost:8080/",
          "height": 116
        },
        "id": "90aBN9Zgwaj5",
        "outputId": "4ff241d6-a5b7-4e70-ea5e-1a50d52a2c95"
      },
      "outputs": [
        {
          "data": {
            "text/html": [
              "<div>\n",
              "<style scoped>\n",
              "    .dataframe tbody tr th:only-of-type {\n",
              "        vertical-align: middle;\n",
              "    }\n",
              "\n",
              "    .dataframe tbody tr th {\n",
              "        vertical-align: top;\n",
              "    }\n",
              "\n",
              "    .dataframe thead th {\n",
              "        text-align: right;\n",
              "    }\n",
              "</style>\n",
              "<table border=\"1\" class=\"dataframe\">\n",
              "  <thead>\n",
              "    <tr style=\"text-align: right;\">\n",
              "      <th></th>\n",
              "      <th>Unnamed: 0</th>\n",
              "      <th>Age</th>\n",
              "      <th>Sex</th>\n",
              "      <th>Ethnicity</th>\n",
              "      <th>BMI</th>\n",
              "      <th>Waist_Circumference</th>\n",
              "      <th>Fasting_Blood_Glucose</th>\n",
              "      <th>HbA1c</th>\n",
              "      <th>Blood_Pressure_Systolic</th>\n",
              "      <th>Blood_Pressure_Diastolic</th>\n",
              "      <th>...</th>\n",
              "      <th>Cholesterol_HDL</th>\n",
              "      <th>Cholesterol_LDL</th>\n",
              "      <th>GGT</th>\n",
              "      <th>Serum_Urate</th>\n",
              "      <th>Physical_Activity_Level</th>\n",
              "      <th>Dietary_Intake_Calories</th>\n",
              "      <th>Alcohol_Consumption</th>\n",
              "      <th>Smoking_Status</th>\n",
              "      <th>Family_History_of_Diabetes</th>\n",
              "      <th>Previous_Gestational_Diabetes</th>\n",
              "    </tr>\n",
              "  </thead>\n",
              "  <tbody>\n",
              "  </tbody>\n",
              "</table>\n",
              "<p>0 rows × 21 columns</p>\n",
              "</div>"
            ],
            "text/plain": [
              "Empty DataFrame\n",
              "Columns: [Unnamed: 0, Age, Sex, Ethnicity, BMI, Waist_Circumference, Fasting_Blood_Glucose, HbA1c, Blood_Pressure_Systolic, Blood_Pressure_Diastolic, Cholesterol_Total, Cholesterol_HDL, Cholesterol_LDL, GGT, Serum_Urate, Physical_Activity_Level, Dietary_Intake_Calories, Alcohol_Consumption, Smoking_Status, Family_History_of_Diabetes, Previous_Gestational_Diabetes]\n",
              "Index: []\n",
              "\n",
              "[0 rows x 21 columns]"
            ]
          },
          "execution_count": 39,
          "metadata": {},
          "output_type": "execute_result"
        }
      ],
      "source": [
        "df[df.duplicated()]"
      ]
    },
    {
      "cell_type": "code",
      "execution_count": 40,
      "metadata": {
        "id": "4iyNbF_V1n-R"
      },
      "outputs": [],
      "source": [
        "df.to_csv(\"../Diabetes_process.csv\", index=False)"
      ]
    }
  ],
  "metadata": {
    "colab": {
      "provenance": []
    },
    "kernelspec": {
      "display_name": "Python 3",
      "name": "python3"
    },
    "language_info": {
      "codemirror_mode": {
        "name": "ipython",
        "version": 3
      },
      "file_extension": ".py",
      "mimetype": "text/x-python",
      "name": "python",
      "nbconvert_exporter": "python",
      "pygments_lexer": "ipython3",
      "version": "3.12.10"
    }
  },
  "nbformat": 4,
  "nbformat_minor": 0
}
